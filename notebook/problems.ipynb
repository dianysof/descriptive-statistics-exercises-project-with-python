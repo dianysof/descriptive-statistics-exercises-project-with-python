{
    "cells": [
        {
            "cell_type": "markdown",
            "id": "ac622319",
            "metadata": {},
            "source": [
                "# Descriptive Statistics Problems"
            ]
        },
        {
            "cell_type": "markdown",
            "id": "aa8993e4",
            "metadata": {},
            "source": [
                "### Exercise 1"
            ]
        },
        {
            "cell_type": "markdown",
            "id": "5e0ab0d5",
            "metadata": {},
            "source": [
                "As right now, you are familliar with numpy, we are going to use numpy to get some data statistics.\n",
                "\n",
                "First, lets create an array of 20 elements distributed normally (Gaussian):\n",
                "\n",
                "Use the np.random.normal function to create some data, using 0,1,20 as parameters because we want a one dimentional array of 20 numbers distributed normally (Gaussian)"
            ]
        },
        {
            "cell_type": "code",
            "execution_count": 1,
            "id": "34720ab6",
            "metadata": {},
            "outputs": [
                {
                    "name": "stdout",
                    "output_type": "stream",
                    "text": [
                        "[-10.85630603   9.97345447   2.82978498 ...  20.40431995  10.15916973\n",
                        " -16.33788169]\n"
                    ]
                }
            ],
            "source": [
                "import numpy as np\n",
                "np.random.seed(123) # Set seed in order to get similar results\n",
                "x = np.random.normal(0,10,3000)\n",
                "print(x)\n"
            ]
        },
        {
            "cell_type": "code",
            "execution_count": 2,
            "id": "49c55822",
            "metadata": {},
            "outputs": [
                {
                    "data": {
                        "text/plain": [
                            "-0.06940626102629906"
                        ]
                    },
                    "execution_count": 2,
                    "metadata": {},
                    "output_type": "execute_result"
                }
            ],
            "source": [
                "#Use numpy to get the mean of your data\n",
                "np.mean(x)"
            ]
        },
        {
            "cell_type": "code",
            "execution_count": 3,
            "id": "03529459",
            "metadata": {},
            "outputs": [
                {
                    "data": {
                        "text/plain": [
                            "96.14056359531011"
                        ]
                    },
                    "execution_count": 3,
                    "metadata": {},
                    "output_type": "execute_result"
                }
            ],
            "source": [
                "#get the variance of your data\n",
                "np.var(x)"
            ]
        },
        {
            "cell_type": "code",
            "execution_count": 4,
            "id": "e53f30c5",
            "metadata": {},
            "outputs": [
                {
                    "data": {
                        "text/plain": [
                            "9.805129453266291"
                        ]
                    },
                    "execution_count": 4,
                    "metadata": {},
                    "output_type": "execute_result"
                }
            ],
            "source": [
                "# Standard deviation\n",
                "# Standard deviation\n",
                "np.std(x)\n"
            ]
        },
        {
            "cell_type": "code",
            "execution_count": 7,
            "id": "9bce852f",
            "metadata": {},
            "outputs": [
                {
                    "name": "stdout",
                    "output_type": "stream",
                    "text": [
                        "ModeResult(mode=2, count=3)\n",
                        "ModeResult(mode=2, count=4)\n"
                    ]
                }
            ],
            "source": [
                "import numpy as np\n",
                "from scipy import stats\n",
                "\n",
                "# Example with a continuous array\n",
                "x = np.array([1, 2, 3, 4, 5, 5, 4, 3, 2, 1, 2, 3, 4, 5])\n",
                "print(stats.mode(x))\n",
                "\n",
                "# Example with a discrete array\n",
                "v = np.array([2, 1, 2, 3, 1, 2, 3, 4, 1, 5, 5, 3, 2, 3])\n",
                "print(stats.mode(v))"
            ]
        },
        {
            "cell_type": "code",
            "execution_count": 8,
            "id": "c682cb6e",
            "metadata": {},
            "outputs": [
                {
                    "data": {
                        "text/plain": [
                            "3.0"
                        ]
                    },
                    "execution_count": 8,
                    "metadata": {},
                    "output_type": "execute_result"
                }
            ],
            "source": [
                "# Median\n",
                "np.median(x)"
            ]
        },
        {
            "cell_type": "code",
            "execution_count": 9,
            "id": "39c3fabd",
            "metadata": {},
            "outputs": [
                {
                    "name": "stdout",
                    "output_type": "stream",
                    "text": [
                        "3.0\n"
                    ]
                },
                {
                    "data": {
                        "text/plain": [
                            "array([1.56, 2.29, 4.  , 4.27])"
                        ]
                    },
                    "execution_count": 9,
                    "metadata": {},
                    "output_type": "execute_result"
                }
            ],
            "source": [
                "# Quantiles\n",
                "print(np.quantile(x, 0.5)) # This match with np.median, why?\n",
                "np.quantile(x, [0.12,0.33,0.66,0.79])"
            ]
        },
        {
            "cell_type": "markdown",
            "id": "46c70c3d",
            "metadata": {},
            "source": [
                "### Exercise 2\n",
                "\n",
                "Write a Python program to calculate the standard deviation of the following data:\n",
                "```py\n",
                "data = [4, 2, 5, 8, 6]\n",
                "```"
            ]
        },
        {
            "cell_type": "code",
            "execution_count": 10,
            "id": "d590308e",
            "metadata": {},
            "outputs": [
                {
                    "name": "stdout",
                    "output_type": "stream",
                    "text": [
                        "Sample Data:  [4, 2, 5, 8, 6]\n",
                        "Standard Deviation :  2.23606797749979\n"
                    ]
                }
            ],
            "source": [
                "import math\n",
                "import sys\n",
                "\n",
                "# Define the standard deviation function\n",
                "def sd_calc(data):\n",
                "    #code here\n",
                "    n = len(data)\n",
                "\n",
                "    if n <= 1:\n",
                "        return 0.0\n",
                "\n",
                "    mean, sd = avg_calc(data), 0.0\n",
                "\n",
                "    # calculate stan. dev.\n",
                "    for el in data:\n",
                "        sd += (float(el) - mean)**2\n",
                "    sd = math.sqrt(sd / float(n-1))\n",
                "\n",
                "    return sd\n",
                "\n",
                "\n",
                "\n",
                "# Define the average function\n",
                "def avg_calc(ls):\n",
                "    #code here\n",
                "    n, mean = len(ls), 0.0\n",
                "\n",
                "    if n <= 1:\n",
                "        return ls[0]\n",
                "\n",
                "    # calculate average\n",
                "    for el in ls:\n",
                "        mean = mean + float(el)\n",
                "    mean = mean / float(n)\n",
                "\n",
                "    return mean\n",
                "\n",
                "\n",
                "data = [4, 2, 5, 8, 6]\n",
                "print(\"Sample Data: \", data)\n",
                "print(\"Standard Deviation : \",sd_calc(data))"
            ]
        },
        {
            "cell_type": "markdown",
            "id": "04b71791",
            "metadata": {},
            "source": [
                "Source:\n",
                "\n",
                "https://www.w3resource.com/"
            ]
        }
    ],
    "metadata": {
        "interpreter": {
            "hash": "9248718ffe6ce6938b217e69dbcc175ea21f4c6b28a317e96c05334edae734bb"
        },
        "kernelspec": {
            "display_name": "Python 3.9.12 ('ML-BOOTCAMP')",
            "language": "python",
            "name": "python3"
        },
        "language_info": {
            "codemirror_mode": {
                "name": "ipython",
                "version": 3
            },
            "file_extension": ".py",
            "mimetype": "text/x-python",
            "name": "python",
            "nbconvert_exporter": "python",
            "pygments_lexer": "ipython3",
            "version": "3.11.4"
        }
    },
    "nbformat": 4,
    "nbformat_minor": 5
}
